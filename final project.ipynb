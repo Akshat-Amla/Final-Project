{
 "cells": [
  {
   "cell_type": "code",
   "execution_count": 1,
   "id": "0788721d-82e3-418c-b759-b85240e62001",
   "metadata": {},
   "outputs": [],
   "source": [
    "import os\n",
    "import glob\n",
    "import pandas as pd\n",
    "from sklearn.feature_extraction.text import TfidfVectorizer\n",
    "from sklearn.preprocessing import LabelEncoder\n",
    "from sklearn.decomposition import LatentDirichletAllocation\n",
    "from sklearn.cluster import KMeans\n",
    "from nltk.corpus import stopwords\n",
    "import nltk"
   ]
  },
  {
   "cell_type": "code",
   "execution_count": 2,
   "id": "25794286-4c30-4a82-bacc-bb43b299b0d4",
   "metadata": {},
   "outputs": [
    {
     "name": "stderr",
     "output_type": "stream",
     "text": [
      "[nltk_data] Downloading package stopwords to\n",
      "[nltk_data]     C:\\Users\\ACER\\AppData\\Roaming\\nltk_data...\n",
      "[nltk_data]   Package stopwords is already up-to-date!\n"
     ]
    },
    {
     "data": {
      "text/plain": [
       "True"
      ]
     },
     "execution_count": 2,
     "metadata": {},
     "output_type": "execute_result"
    }
   ],
   "source": [
    "# Download NLTK stopwords\n",
    "nltk.download('stopwords')"
   ]
  },
  {
   "cell_type": "code",
   "execution_count": 3,
   "id": "50bae7c2-d7c8-461a-8832-2bc771ed6f3a",
   "metadata": {},
   "outputs": [],
   "source": [
    "# Function to read all files from a directory and store them in a DataFrame\n",
    "def load_newsgroups_data(base_path):\n",
    "    data = []\n",
    "    labels = []\n",
    "    for newsgroup_dir in os.listdir(base_path):\n",
    "        newsgroup_path = os.path.join(base_path, newsgroup_dir)\n",
    "        if os.path.isdir(newsgroup_path):\n",
    "            for file_path in glob.glob(os.path.join(newsgroup_path, '*')):\n",
    "                if os.path.isfile(file_path):  # Ensure it's a file\n",
    "                    try:\n",
    "                        with open(file_path, 'r', errors='ignore') as file:\n",
    "                            text = file.read()\n",
    "                            data.append(text)\n",
    "                            labels.append(newsgroup_dir)\n",
    "                    except PermissionError as e:\n",
    "                        print(f\"Permission denied for file: {file_path}\")\n",
    "    return pd.DataFrame({'text': data, 'label': labels})"
   ]
  },
  {
   "cell_type": "code",
   "execution_count": 4,
   "id": "eb074b77-2889-41d5-a52b-1758c2a34b71",
   "metadata": {},
   "outputs": [],
   "source": [
    "# Load the newsgroups data\n",
    "newsgroups_path = '20_newsgroups'\n",
    "newsgroups_data = load_newsgroups_data(newsgroups_path)"
   ]
  },
  {
   "cell_type": "code",
   "execution_count": 5,
   "id": "3b6fba2f-57a6-4819-ac48-796ffa1dd755",
   "metadata": {},
   "outputs": [
    {
     "name": "stdout",
     "output_type": "stream",
     "text": [
      "DataFrame columns: Index(['text', 'label'], dtype='object')\n",
      "Sample data:                                                 text        label\n",
      "0  Xref: cantaloupe.srv.cs.cmu.edu alt.atheism:49...  alt.atheism\n",
      "1  Xref: cantaloupe.srv.cs.cmu.edu alt.atheism:51...  alt.atheism\n",
      "2  Newsgroups: alt.atheism\\nPath: cantaloupe.srv....  alt.atheism\n",
      "3  Xref: cantaloupe.srv.cs.cmu.edu alt.atheism:51...  alt.atheism\n",
      "4  Xref: cantaloupe.srv.cs.cmu.edu alt.atheism:51...  alt.atheism\n"
     ]
    }
   ],
   "source": [
    "# Verify the structure of the DataFrame\n",
    "print(\"DataFrame columns:\", newsgroups_data.columns)\n",
    "print(\"Sample data:\", newsgroups_data.head())"
   ]
  },
  {
   "cell_type": "code",
   "execution_count": 6,
   "id": "6a9e4d46-dad5-445e-9820-dcb9eb931a45",
   "metadata": {},
   "outputs": [
    {
     "name": "stdout",
     "output_type": "stream",
     "text": [
      "Number of empty documents: 0\n"
     ]
    }
   ],
   "source": [
    "# Check for empty documents and remove them\n",
    "if 'text' in newsgroups_data.columns:\n",
    "    empty_docs = newsgroups_data['text'].apply(lambda x: len(x.strip()) == 0)\n",
    "    print(f\"Number of empty documents: {empty_docs.sum()}\")\n",
    "    newsgroups_data = newsgroups_data[~empty_docs]\n",
    "else:\n",
    "    print(\"'text' column is missing in the DataFrame.\")"
   ]
  },
  {
   "cell_type": "code",
   "execution_count": 7,
   "id": "789e2ff3-5a75-4349-9f99-cfc942b66fdb",
   "metadata": {},
   "outputs": [],
   "source": [
    "# Define a function to preprocess the text data\n",
    "def preprocess_text(texts):\n",
    "    vectorizer = TfidfVectorizer(stop_words='english', max_features=1000)\n",
    "    tfidf_matrix = vectorizer.fit_transform(texts)\n",
    "    return tfidf_matrix, vectorizer.get_feature_names_out()"
   ]
  },
  {
   "cell_type": "code",
   "execution_count": 8,
   "id": "9fb07316-c4e9-467d-bf22-11247f6eeba7",
   "metadata": {
    "scrolled": true
   },
   "outputs": [],
   "source": [
    "# Preprocess the text data if 'text' column exists\n",
    "if 'text' in newsgroups_data.columns:\n",
    "    tfidf_matrix, feature_names = preprocess_text(newsgroups_data['text'])\n",
    "else:\n",
    "    print(\"Cannot preprocess text as 'text' column is missing.\")"
   ]
  },
  {
   "cell_type": "code",
   "execution_count": 9,
   "id": "d2d726d2-1dfd-43da-84e4-f12524f16a4b",
   "metadata": {},
   "outputs": [],
   "source": [
    "# Encode the labels\n",
    "if 'label' in newsgroups_data.columns:\n",
    "    label_encoder = LabelEncoder()\n",
    "    labels_encoded = label_encoder.fit_transform(newsgroups_data['label'])\n",
    "else:\n",
    "    print(\"'label' column is missing in the DataFrame.\")"
   ]
  },
  {
   "cell_type": "code",
   "execution_count": 10,
   "id": "3182bcc7-fd4a-4730-822a-5e39be596239",
   "metadata": {},
   "outputs": [],
   "source": [
    "# K-means clustering\n",
    "if 'text' in newsgroups_data.columns:\n",
    "    kmeans = KMeans(n_clusters=20, random_state=42)\n",
    "    kmeans_labels = kmeans.fit_predict(tfidf_matrix)\n",
    "else:\n",
    "    print(\"Cannot perform K-means clustering as 'text' column is missing.\")"
   ]
  },
  {
   "cell_type": "code",
   "execution_count": 11,
   "id": "98978f97-b836-4e9e-97b0-a6085e465887",
   "metadata": {},
   "outputs": [],
   "source": [
    "# Latent Dirichlet Allocation (LDA)\n",
    "if 'text' in newsgroups_data.columns:\n",
    "    lda = LatentDirichletAllocation(n_components=20, random_state=42)\n",
    "    lda.fit(tfidf_matrix)\n",
    "    lda_topics = lda.transform(tfidf_matrix)\n",
    "else:\n",
    "    print(\"Cannot perform LDA as 'text' column is missing.\")"
   ]
  },
  {
   "cell_type": "code",
   "execution_count": 12,
   "id": "17bb3e12-fdc2-4c57-9613-f21199b43ce6",
   "metadata": {},
   "outputs": [],
   "source": [
    "# Function to print top words in each topic\n",
    "def print_top_words(model, feature_names, n_top_words):\n",
    "    for topic_idx, topic in enumerate(model.components_):\n",
    "        print(\"Topic #%d:\" % topic_idx)\n",
    "        print(\" \".join([feature_names[i] for i in topic.argsort()[:-n_top_words - 1:-1]]))\n",
    "    print()"
   ]
  },
  {
   "cell_type": "code",
   "execution_count": 13,
   "id": "ed4ff40c-069b-45fb-a969-af858252f6f4",
   "metadata": {},
   "outputs": [
    {
     "name": "stdout",
     "output_type": "stream",
     "text": [
      "Topics in LDA model:\n",
      "Topic #0:\n",
      "edu uiuc crypt clipper cso com org key security netcom\n",
      "Topic #1:\n",
      "edu sci digex space access com med cmu astro net\n",
      "Topic #2:\n",
      "nasa caltech gov jpl gap edu keith elroy space uci\n",
      "Topic #3:\n",
      "edu ca sport hockey baseball game rec team com news\n",
      "Topic #4:\n",
      "stratus ti space edu isc sci com food transfer cmu\n",
      "Topic #5:\n",
      "rutgers christian edu athos geneva soc igor aramis hedrick religion\n",
      "Topic #6:\n",
      "edu hp mit mil com navy portal buffalo du convex\n",
      "Topic #7:\n",
      "edu windows comp graphics os ms com cmu cs ac\n",
      "Topic #8:\n",
      "edu talk atheism com religion sandvik alt abortion apple sni\n",
      "Topic #9:\n",
      "att cb com uwm nj na 00 50 vs distribution\n",
      "Topic #10:\n",
      "cwru pitt freenet cleveland ins edu po sun western usenet\n",
      "Topic #11:\n",
      "edu com rec autos cmu ca uk car motorcycles news\n",
      "Topic #12:\n",
      "edu columbia cc jhu ctr cmu news mot uchicago sol\n",
      "Topic #13:\n",
      "edu sys ibm hardware mac comp pc com cmu drive\n",
      "Topic #14:\n",
      "god rutgers edu christian jesus religion people bible athos church\n",
      "Topic #15:\n",
      "edu politics talk com cmu misc guns cs alt people\n",
      "Topic #16:\n",
      "edu forsale misc sale cmu state ohio com cs computers\n",
      "Topic #17:\n",
      "au oz edu umn arizona sci cmu netcom news cs\n",
      "Topic #18:\n",
      "culture soc turkish armenian soviet armenians armenia greek mideast politics\n",
      "Topic #19:\n",
      "purdue stanford ecn berkeley edu tu agate ucsd csd cc\n",
      "\n"
     ]
    }
   ],
   "source": [
    "# Print the top words for each topic from LDA\n",
    "if 'text' in newsgroups_data.columns:\n",
    "    n_top_words = 10\n",
    "    print(\"Topics in LDA model:\")\n",
    "    print_top_words(lda, feature_names, n_top_words)\n",
    "else:\n",
    "    print(\"Cannot print LDA topics as 'text' column is missing.\")"
   ]
  },
  {
   "cell_type": "code",
   "execution_count": 15,
   "id": "4a86b0f0-83a3-4b1a-b286-8a82f20bdc98",
   "metadata": {},
   "outputs": [
    {
     "name": "stdout",
     "output_type": "stream",
     "text": [
      "                                                text        label  \\\n",
      "0  Xref: cantaloupe.srv.cs.cmu.edu alt.atheism:49...  alt.atheism   \n",
      "1  Xref: cantaloupe.srv.cs.cmu.edu alt.atheism:51...  alt.atheism   \n",
      "2  Newsgroups: alt.atheism\\nPath: cantaloupe.srv....  alt.atheism   \n",
      "3  Xref: cantaloupe.srv.cs.cmu.edu alt.atheism:51...  alt.atheism   \n",
      "4  Xref: cantaloupe.srv.cs.cmu.edu alt.atheism:51...  alt.atheism   \n",
      "\n",
      "   kmeans_label  lda_topic  \n",
      "0             7         14  \n",
      "1             7         14  \n",
      "2             7         14  \n",
      "3             2         14  \n",
      "4             9         13  \n"
     ]
    }
   ],
   "source": [
    "# Adding clustering labels to the DataFrame\n",
    "if 'text' in newsgroups_data.columns:\n",
    "    newsgroups_data['kmeans_label'] = kmeans_labels\n",
    "    newsgroups_data['lda_topic'] = lda_topics.argmax(axis=1)\n",
    "    print(newsgroups_data.head())\n",
    "else:\n",
    "    print(\"Cannot add clustering labels as 'text' column is missing.\")"
   ]
  },
  {
   "cell_type": "code",
   "execution_count": null,
   "id": "a60fa35e-0d6c-4a9f-824d-c5081a418478",
   "metadata": {},
   "outputs": [],
   "source": []
  }
 ],
 "metadata": {
  "kernelspec": {
   "display_name": "Python 3 (ipykernel)",
   "language": "python",
   "name": "python3"
  },
  "language_info": {
   "codemirror_mode": {
    "name": "ipython",
    "version": 3
   },
   "file_extension": ".py",
   "mimetype": "text/x-python",
   "name": "python",
   "nbconvert_exporter": "python",
   "pygments_lexer": "ipython3",
   "version": "3.12.4"
  }
 },
 "nbformat": 4,
 "nbformat_minor": 5
}
